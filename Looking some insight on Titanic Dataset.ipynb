{
 "cells": [
  {
   "cell_type": "code",
   "execution_count": 11,
   "id": "4d3f19d9-ae92-4f0c-926f-a6b04d7dda4b",
   "metadata": {},
   "outputs": [],
   "source": [
    "# importing necessary libraries\n",
    "import pandas as pd\n",
    "import matplotlib.pyplot as plt\n",
    "import seaborn as sns"
   ]
  },
  {
   "cell_type": "markdown",
   "id": "b0109ad2-8700-4fb9-a1aa-b4e2ff6ef85b",
   "metadata": {},
   "source": [
    "#### Warm up activities"
   ]
  },
  {
   "cell_type": "code",
   "execution_count": 28,
   "id": "f6ef07f1-02de-43df-9334-4f2fa4b718c9",
   "metadata": {},
   "outputs": [
    {
     "data": {
      "text/html": [
       "<div>\n",
       "<style scoped>\n",
       "    .dataframe tbody tr th:only-of-type {\n",
       "        vertical-align: middle;\n",
       "    }\n",
       "\n",
       "    .dataframe tbody tr th {\n",
       "        vertical-align: top;\n",
       "    }\n",
       "\n",
       "    .dataframe thead th {\n",
       "        text-align: right;\n",
       "    }\n",
       "</style>\n",
       "<table border=\"1\" class=\"dataframe\">\n",
       "  <thead>\n",
       "    <tr style=\"text-align: right;\">\n",
       "      <th></th>\n",
       "      <th>PassengerId</th>\n",
       "      <th>Survived</th>\n",
       "      <th>Pclass</th>\n",
       "      <th>Name</th>\n",
       "      <th>Sex</th>\n",
       "      <th>Age</th>\n",
       "      <th>SibSp</th>\n",
       "      <th>Parch</th>\n",
       "      <th>Ticket</th>\n",
       "      <th>Fare</th>\n",
       "      <th>Cabin</th>\n",
       "      <th>Embarked</th>\n",
       "    </tr>\n",
       "  </thead>\n",
       "  <tbody>\n",
       "    <tr>\n",
       "      <th>0</th>\n",
       "      <td>1</td>\n",
       "      <td>0</td>\n",
       "      <td>3</td>\n",
       "      <td>Braund, Mr. Owen Harris</td>\n",
       "      <td>male</td>\n",
       "      <td>22.0</td>\n",
       "      <td>1</td>\n",
       "      <td>0</td>\n",
       "      <td>A/5 21171</td>\n",
       "      <td>7.2500</td>\n",
       "      <td>NaN</td>\n",
       "      <td>S</td>\n",
       "    </tr>\n",
       "    <tr>\n",
       "      <th>1</th>\n",
       "      <td>2</td>\n",
       "      <td>1</td>\n",
       "      <td>1</td>\n",
       "      <td>Cumings, Mrs. John Bradley (Florence Briggs Th...</td>\n",
       "      <td>female</td>\n",
       "      <td>38.0</td>\n",
       "      <td>1</td>\n",
       "      <td>0</td>\n",
       "      <td>PC 17599</td>\n",
       "      <td>71.2833</td>\n",
       "      <td>C85</td>\n",
       "      <td>C</td>\n",
       "    </tr>\n",
       "    <tr>\n",
       "      <th>2</th>\n",
       "      <td>3</td>\n",
       "      <td>1</td>\n",
       "      <td>3</td>\n",
       "      <td>Heikkinen, Miss. Laina</td>\n",
       "      <td>female</td>\n",
       "      <td>26.0</td>\n",
       "      <td>0</td>\n",
       "      <td>0</td>\n",
       "      <td>STON/O2. 3101282</td>\n",
       "      <td>7.9250</td>\n",
       "      <td>NaN</td>\n",
       "      <td>S</td>\n",
       "    </tr>\n",
       "    <tr>\n",
       "      <th>3</th>\n",
       "      <td>4</td>\n",
       "      <td>1</td>\n",
       "      <td>1</td>\n",
       "      <td>Futrelle, Mrs. Jacques Heath (Lily May Peel)</td>\n",
       "      <td>female</td>\n",
       "      <td>35.0</td>\n",
       "      <td>1</td>\n",
       "      <td>0</td>\n",
       "      <td>113803</td>\n",
       "      <td>53.1000</td>\n",
       "      <td>C123</td>\n",
       "      <td>S</td>\n",
       "    </tr>\n",
       "    <tr>\n",
       "      <th>4</th>\n",
       "      <td>5</td>\n",
       "      <td>0</td>\n",
       "      <td>3</td>\n",
       "      <td>Allen, Mr. William Henry</td>\n",
       "      <td>male</td>\n",
       "      <td>35.0</td>\n",
       "      <td>0</td>\n",
       "      <td>0</td>\n",
       "      <td>373450</td>\n",
       "      <td>8.0500</td>\n",
       "      <td>NaN</td>\n",
       "      <td>S</td>\n",
       "    </tr>\n",
       "  </tbody>\n",
       "</table>\n",
       "</div>"
      ],
      "text/plain": [
       "   PassengerId  Survived  Pclass  \\\n",
       "0            1         0       3   \n",
       "1            2         1       1   \n",
       "2            3         1       3   \n",
       "3            4         1       1   \n",
       "4            5         0       3   \n",
       "\n",
       "                                                Name     Sex   Age  SibSp  \\\n",
       "0                            Braund, Mr. Owen Harris    male  22.0      1   \n",
       "1  Cumings, Mrs. John Bradley (Florence Briggs Th...  female  38.0      1   \n",
       "2                             Heikkinen, Miss. Laina  female  26.0      0   \n",
       "3       Futrelle, Mrs. Jacques Heath (Lily May Peel)  female  35.0      1   \n",
       "4                           Allen, Mr. William Henry    male  35.0      0   \n",
       "\n",
       "   Parch            Ticket     Fare Cabin Embarked  \n",
       "0      0         A/5 21171   7.2500   NaN        S  \n",
       "1      0          PC 17599  71.2833   C85        C  \n",
       "2      0  STON/O2. 3101282   7.9250   NaN        S  \n",
       "3      0            113803  53.1000  C123        S  \n",
       "4      0            373450   8.0500   NaN        S  "
      ]
     },
     "execution_count": 28,
     "metadata": {},
     "output_type": "execute_result"
    }
   ],
   "source": [
    "# loading the dataset\n",
    "df = pd.read_csv('titanic.csv')\n",
    "df.head()"
   ]
  },
  {
   "cell_type": "markdown",
   "id": "eaf31247-ae87-4988-9c58-7d8c377390d0",
   "metadata": {},
   "source": [
    "##### What is average age of passengers?"
   ]
  },
  {
   "cell_type": "code",
   "execution_count": 13,
   "id": "85e2d6ea-8c38-4886-9683-e22a66f78ebb",
   "metadata": {},
   "outputs": [
    {
     "data": {
      "text/plain": [
       "29.69911764705882"
      ]
     },
     "execution_count": 13,
     "metadata": {},
     "output_type": "execute_result"
    }
   ],
   "source": [
    "df['Age'].mean()"
   ]
  },
  {
   "cell_type": "markdown",
   "id": "8e91ed85-0026-4750-b815-acbc79b1df6a",
   "metadata": {},
   "source": [
    "##### Who were the survivors ?"
   ]
  },
  {
   "cell_type": "code",
   "execution_count": 16,
   "id": "ab84240d-97a4-4e23-85ce-a34db3b1818b",
   "metadata": {
    "scrolled": true
   },
   "outputs": [
    {
     "data": {
      "text/html": [
       "<div>\n",
       "<style scoped>\n",
       "    .dataframe tbody tr th:only-of-type {\n",
       "        vertical-align: middle;\n",
       "    }\n",
       "\n",
       "    .dataframe tbody tr th {\n",
       "        vertical-align: top;\n",
       "    }\n",
       "\n",
       "    .dataframe thead th {\n",
       "        text-align: right;\n",
       "    }\n",
       "</style>\n",
       "<table border=\"1\" class=\"dataframe\">\n",
       "  <thead>\n",
       "    <tr style=\"text-align: right;\">\n",
       "      <th></th>\n",
       "      <th>PassengerId</th>\n",
       "      <th>Survived</th>\n",
       "      <th>Pclass</th>\n",
       "      <th>Name</th>\n",
       "      <th>Sex</th>\n",
       "      <th>Age</th>\n",
       "      <th>SibSp</th>\n",
       "      <th>Parch</th>\n",
       "      <th>Ticket</th>\n",
       "      <th>Fare</th>\n",
       "      <th>Cabin</th>\n",
       "      <th>Embarked</th>\n",
       "    </tr>\n",
       "  </thead>\n",
       "  <tbody>\n",
       "    <tr>\n",
       "      <th>1</th>\n",
       "      <td>2</td>\n",
       "      <td>1</td>\n",
       "      <td>1</td>\n",
       "      <td>Cumings, Mrs. John Bradley (Florence Briggs Th...</td>\n",
       "      <td>female</td>\n",
       "      <td>38.0</td>\n",
       "      <td>1</td>\n",
       "      <td>0</td>\n",
       "      <td>PC 17599</td>\n",
       "      <td>71.2833</td>\n",
       "      <td>C85</td>\n",
       "      <td>C</td>\n",
       "    </tr>\n",
       "    <tr>\n",
       "      <th>2</th>\n",
       "      <td>3</td>\n",
       "      <td>1</td>\n",
       "      <td>3</td>\n",
       "      <td>Heikkinen, Miss. Laina</td>\n",
       "      <td>female</td>\n",
       "      <td>26.0</td>\n",
       "      <td>0</td>\n",
       "      <td>0</td>\n",
       "      <td>STON/O2. 3101282</td>\n",
       "      <td>7.9250</td>\n",
       "      <td>NaN</td>\n",
       "      <td>S</td>\n",
       "    </tr>\n",
       "    <tr>\n",
       "      <th>3</th>\n",
       "      <td>4</td>\n",
       "      <td>1</td>\n",
       "      <td>1</td>\n",
       "      <td>Futrelle, Mrs. Jacques Heath (Lily May Peel)</td>\n",
       "      <td>female</td>\n",
       "      <td>35.0</td>\n",
       "      <td>1</td>\n",
       "      <td>0</td>\n",
       "      <td>113803</td>\n",
       "      <td>53.1000</td>\n",
       "      <td>C123</td>\n",
       "      <td>S</td>\n",
       "    </tr>\n",
       "    <tr>\n",
       "      <th>8</th>\n",
       "      <td>9</td>\n",
       "      <td>1</td>\n",
       "      <td>3</td>\n",
       "      <td>Johnson, Mrs. Oscar W (Elisabeth Vilhelmina Berg)</td>\n",
       "      <td>female</td>\n",
       "      <td>27.0</td>\n",
       "      <td>0</td>\n",
       "      <td>2</td>\n",
       "      <td>347742</td>\n",
       "      <td>11.1333</td>\n",
       "      <td>NaN</td>\n",
       "      <td>S</td>\n",
       "    </tr>\n",
       "    <tr>\n",
       "      <th>9</th>\n",
       "      <td>10</td>\n",
       "      <td>1</td>\n",
       "      <td>2</td>\n",
       "      <td>Nasser, Mrs. Nicholas (Adele Achem)</td>\n",
       "      <td>female</td>\n",
       "      <td>14.0</td>\n",
       "      <td>1</td>\n",
       "      <td>0</td>\n",
       "      <td>237736</td>\n",
       "      <td>30.0708</td>\n",
       "      <td>NaN</td>\n",
       "      <td>C</td>\n",
       "    </tr>\n",
       "  </tbody>\n",
       "</table>\n",
       "</div>"
      ],
      "text/plain": [
       "   PassengerId  Survived  Pclass  \\\n",
       "1            2         1       1   \n",
       "2            3         1       3   \n",
       "3            4         1       1   \n",
       "8            9         1       3   \n",
       "9           10         1       2   \n",
       "\n",
       "                                                Name     Sex   Age  SibSp  \\\n",
       "1  Cumings, Mrs. John Bradley (Florence Briggs Th...  female  38.0      1   \n",
       "2                             Heikkinen, Miss. Laina  female  26.0      0   \n",
       "3       Futrelle, Mrs. Jacques Heath (Lily May Peel)  female  35.0      1   \n",
       "8  Johnson, Mrs. Oscar W (Elisabeth Vilhelmina Berg)  female  27.0      0   \n",
       "9                Nasser, Mrs. Nicholas (Adele Achem)  female  14.0      1   \n",
       "\n",
       "   Parch            Ticket     Fare Cabin Embarked  \n",
       "1      0          PC 17599  71.2833   C85        C  \n",
       "2      0  STON/O2. 3101282   7.9250   NaN        S  \n",
       "3      0            113803  53.1000  C123        S  \n",
       "8      2            347742  11.1333   NaN        S  \n",
       "9      0            237736  30.0708   NaN        C  "
      ]
     },
     "execution_count": 16,
     "metadata": {},
     "output_type": "execute_result"
    }
   ],
   "source": [
    "df.loc[df['Survived'] == 1].head()"
   ]
  },
  {
   "cell_type": "markdown",
   "id": "1550043c-f89d-4493-88a6-af569ffd9495",
   "metadata": {},
   "source": [
    "##### Check if we have missing value in `Age` column"
   ]
  },
  {
   "cell_type": "code",
   "execution_count": 29,
   "id": "6d3bdd71-4334-4e20-83e7-8e1929e6b2de",
   "metadata": {},
   "outputs": [
    {
     "data": {
      "text/plain": [
       "177"
      ]
     },
     "execution_count": 29,
     "metadata": {},
     "output_type": "execute_result"
    }
   ],
   "source": [
    "# we have 177 missing value in `Age` column\n",
    "df['Age'].isna().sum()\n",
    "\n",
    "# to see the row of those missing value\n",
    "# df.loc[df['Age'].isna()]"
   ]
  },
  {
   "cell_type": "code",
   "execution_count": 31,
   "id": "b83d8f25-2f8a-472e-9695-d4304a039e47",
   "metadata": {},
   "outputs": [],
   "source": [
    "# replace the missing value to be a mean of avg age\n",
    "df['Age'] = df['Age'].fillna(df['Age'].mean())"
   ]
  },
  {
   "cell_type": "markdown",
   "id": "ca5fdf99-5aa6-4404-8f38-31f5621077e5",
   "metadata": {},
   "source": [
    "#### Activities"
   ]
  },
  {
   "cell_type": "markdown",
   "id": "74c2f505-344b-4348-920e-190dda34caf7",
   "metadata": {},
   "source": [
    "##### Rich People Survive?\n",
    "Does wealth determine fate in a crisis? Let’s dive into the class system aboard the Titanic by visualizing survival rates based on passenger class. This bar chart paints a vivid picture of how socio-economic status may have played a role in determining who lived and who perished during one of history's most infamous maritime disasters."
   ]
  },
  {
   "cell_type": "code",
   "execution_count": 43,
   "id": "51aab699-36be-4782-a62a-fcb69aaad9cf",
   "metadata": {},
   "outputs": [
    {
     "data": {
      "image/png": "[encoded data removed]",
      "text/plain": [
       "<Figure size 640x480 with 1 Axes>"
      ]
     },
     "metadata": {},
     "output_type": "display_data"
    }
   ],
   "source": [
    "survival_by_class = df.groupby('Pclass')['Survived'].mean().reset_index()\n",
    "survival_by_class\n",
    "sns.barplot(x='Pclass', y='Survived', data=survival_by_class)\n",
    "plt.title('Survival Rate by Passenger Class')\n",
    "plt.ylabel('Survival Rate')\n",
    "plt.xlabel('Passenger Class')\n",
    "plt.show()"
   ]
  },
  {
   "cell_type": "markdown",
   "id": "c74ab3cd-cd96-478a-8836-91089a177b23",
   "metadata": {},
   "source": [
    "First-class passengers were significantly more likely to survive, with over 60% survival rate, whereas third-class passengers faced the greatest risk. This stark contrast highlights the impact of social class on survival during the tragedy."
   ]
  },
  {
   "cell_type": "markdown",
   "id": "e2d39f25-4b61-47f2-89d6-8cee30484598",
   "metadata": {},
   "source": [
    "##### Calculating the age difference from the mean age"
   ]
  },
  {
   "cell_type": "code",
   "execution_count": 46,
   "id": "64c252aa-67c5-4039-8499-83a24f8721ec",
   "metadata": {},
   "outputs": [
    {
     "data": {
      "text/plain": [
       "0      -7.699118\n",
       "1       8.300882\n",
       "2      -3.699118\n",
       "3       5.300882\n",
       "4       5.300882\n",
       "         ...    \n",
       "886    -2.699118\n",
       "887   -10.699118\n",
       "888     0.000000\n",
       "889    -3.699118\n",
       "890     2.300882\n",
       "Name: Age, Length: 891, dtype: float64"
      ]
     },
     "execution_count": 46,
     "metadata": {},
     "output_type": "execute_result"
    }
   ],
   "source": [
    "mean_age = df['Age'].mean()\n",
    "age_difference = df['Age'] - mean_age\n",
    "age_difference"
   ]
  },
  {
   "cell_type": "markdown",
   "id": "a93b4ca2-9cef-41c7-8dc7-33714af83d45",
   "metadata": {},
   "source": [
    "##### Normalize the Fare column"
   ]
  },
  {
   "cell_type": "code",
   "execution_count": 48,
   "id": "98422b55-eb2e-465a-86db-85bea3ae668b",
   "metadata": {},
   "outputs": [
    {
     "data": {
      "text/plain": [
       "0      0.014151\n",
       "1      0.139136\n",
       "2      0.015469\n",
       "3      0.103644\n",
       "4      0.015713\n",
       "         ...   \n",
       "886    0.025374\n",
       "887    0.058556\n",
       "888    0.045771\n",
       "889    0.058556\n",
       "890    0.015127\n",
       "Name: Fare, Length: 891, dtype: float64"
      ]
     },
     "execution_count": 48,
     "metadata": {},
     "output_type": "execute_result"
    }
   ],
   "source": [
    "fare_min = df['Fare'].min()\n",
    "fare_max = df['Fare'].max()\n",
    "normalized_fare = (df['Fare'] - fare_min) / (fare_max - fare_min)\n",
    "normalized_fare"
   ]
  },
  {
   "cell_type": "markdown",
   "id": "13c8f914-1f7f-4c83-89ee-2f25a9860a40",
   "metadata": {},
   "source": [
    "Normalization scales values between 0 and 1, making comparisons easier."
   ]
  },
  {
   "cell_type": "markdown",
   "id": "72964606-022f-4c11-9f25-5b8dd4942592",
   "metadata": {},
   "source": [
    "##### Calculate family size"
   ]
  },
  {
   "cell_type": "code",
   "execution_count": 51,
   "id": "d02c079d-c3de-4a91-9aec-4021831c2b2b",
   "metadata": {},
   "outputs": [
    {
     "data": {
      "text/plain": [
       "0      2\n",
       "1      2\n",
       "2      1\n",
       "3      2\n",
       "4      1\n",
       "      ..\n",
       "886    1\n",
       "887    1\n",
       "888    4\n",
       "889    1\n",
       "890    1\n",
       "Length: 891, dtype: int64"
      ]
     },
     "execution_count": 51,
     "metadata": {},
     "output_type": "execute_result"
    }
   ],
   "source": [
    "family_size = df['SibSp'] + df['Parch'] + 1\n",
    "family_size"
   ]
  },
  {
   "cell_type": "markdown",
   "id": "984c9c3a-0292-4243-9387-6bb8c07ef7a9",
   "metadata": {},
   "source": [
    "##### Calculate Fare Per Family Member"
   ]
  },
  {
   "cell_type": "code",
   "execution_count": 52,
   "id": "87c707a3-b8b5-4350-bc07-bf5228836464",
   "metadata": {},
   "outputs": [
    {
     "data": {
      "text/plain": [
       "0       3.62500\n",
       "1      35.64165\n",
       "2       7.92500\n",
       "3      26.55000\n",
       "4       8.05000\n",
       "         ...   \n",
       "886    13.00000\n",
       "887    30.00000\n",
       "888     5.86250\n",
       "889    30.00000\n",
       "890     7.75000\n",
       "Length: 891, dtype: float64"
      ]
     },
     "execution_count": 52,
     "metadata": {},
     "output_type": "execute_result"
    }
   ],
   "source": [
    "fare_per_family_member = df['Fare'] / family_size\n",
    "fare_per_family_member"
   ]
  },
  {
   "cell_type": "markdown",
   "id": "5c2a2dd7-add9-4fb1-9a8a-bfdcf1027547",
   "metadata": {},
   "source": [
    "#### Age Comparison?\n",
    "Curious about the age makeup of passengers in each class aboard the Titanic? This histogram will take you through the age distribution across the different passenger classes, revealing the dynamics between age and class structure during this fateful journey."
   ]
  },
  {
   "cell_type": "code",
   "execution_count": 53,
   "id": "ccfea9f8-e926-4c49-a7a2-0ee3201e2d5f",
   "metadata": {},
   "outputs": [
    {
     "data": {
      "image/png": "[encoded data removed]",
      "text/plain": [
       "<Figure size 1000x600 with 1 Axes>"
      ]
     },
     "metadata": {},
     "output_type": "display_data"
    }
   ],
   "source": [
    "plt.figure(figsize=(10,6))\n",
    "sns.histplot(df, x='Age', hue='Pclass', multiple='stack', bins=20, palette='coolwarm')\n",
    "plt.title('Age Distribution by Passenger Class')\n",
    "plt.xlabel('Age')\n",
    "plt.ylabel('Count')\n",
    "plt.show()"
   ]
  },
  {
   "cell_type": "markdown",
   "id": "d414eb49-d5db-41de-ac54-f60748cf5157",
   "metadata": {},
   "source": [
    "##### Calculate Weighted Age Using Fare Weight"
   ]
  },
  {
   "cell_type": "code",
   "execution_count": 54,
   "id": "f15be855-1941-4451-878d-d48c13b3e8a2",
   "metadata": {},
   "outputs": [
    {
     "data": {
      "text/plain": [
       "0      0.311323\n",
       "1      5.287158\n",
       "2      0.402183\n",
       "3      3.627550\n",
       "4      0.549939\n",
       "         ...   \n",
       "886    0.685106\n",
       "887    1.112566\n",
       "888    1.359369\n",
       "889    1.522459\n",
       "890    0.484064\n",
       "Length: 891, dtype: float64"
      ]
     },
     "execution_count": 54,
     "metadata": {},
     "output_type": "execute_result"
    }
   ],
   "source": [
    "fare_weight = df['Fare'] / fare_max\n",
    "fare_weight\n",
    "\n",
    "weighted_age = df['Age'] * fare_weight\n",
    "weighted_age"
   ]
  },
  {
   "cell_type": "markdown",
   "id": "05564188-bb2f-4f54-a0b4-e47cf78e396e",
   "metadata": {},
   "source": [
    "This assigns more weight to ages of passengers who paid higher fares."
   ]
  },
  {
   "cell_type": "markdown",
   "id": "4917c91e-9e91-4165-9e09-202f74d59578",
   "metadata": {},
   "source": [
    "##### Calculate Cumulative Fare Percentage"
   ]
  },
  {
   "cell_type": "code",
   "execution_count": 55,
   "id": "f4e06081-66ff-4ab6-b73f-4242476ef50d",
   "metadata": {},
   "outputs": [
    {
     "data": {
      "text/plain": [
       "271      0.000000\n",
       "597      0.000000\n",
       "302      0.000000\n",
       "633      0.000000\n",
       "277      0.000000\n",
       "          ...    \n",
       "438     93.726944\n",
       "341     94.643513\n",
       "737     96.429009\n",
       "258     98.214504\n",
       "679    100.000000\n",
       "Name: Fare, Length: 891, dtype: float64"
      ]
     },
     "execution_count": 55,
     "metadata": {},
     "output_type": "execute_result"
    }
   ],
   "source": [
    "sorted_fares = df['Fare'].sort_values()\n",
    "cumulative_fare_percentage = (sorted_fares.cumsum() / df['Fare'].sum()) * 100\n",
    "cumulative_fare_percentage"
   ]
  },
  {
   "cell_type": "markdown",
   "id": "3c335667-00a7-41be-8350-77db33a9a75e",
   "metadata": {},
   "source": [
    "This determines how the cumulative sum of fares contributes to the total revenue.\n"
   ]
  },
  {
   "cell_type": "markdown",
   "id": "337cea76-1754-44e5-b30d-3e01c1bc25b2",
   "metadata": {},
   "source": [
    "##### Identify Fare Outliers Using IQR"
   ]
  },
  {
   "cell_type": "code",
   "execution_count": 58,
   "id": "0cbb57ad-b5c5-4de5-87ce-bf17ab3b0a43",
   "metadata": {},
   "outputs": [
    {
     "data": {
      "text/html": [
       "<div>\n",
       "<style scoped>\n",
       "    .dataframe tbody tr th:only-of-type {\n",
       "        vertical-align: middle;\n",
       "    }\n",
       "\n",
       "    .dataframe tbody tr th {\n",
       "        vertical-align: top;\n",
       "    }\n",
       "\n",
       "    .dataframe thead th {\n",
       "        text-align: right;\n",
       "    }\n",
       "</style>\n",
       "<table border=\"1\" class=\"dataframe\">\n",
       "  <thead>\n",
       "    <tr style=\"text-align: right;\">\n",
       "      <th></th>\n",
       "      <th>PassengerId</th>\n",
       "      <th>Survived</th>\n",
       "      <th>Pclass</th>\n",
       "      <th>Name</th>\n",
       "      <th>Sex</th>\n",
       "      <th>Age</th>\n",
       "      <th>SibSp</th>\n",
       "      <th>Parch</th>\n",
       "      <th>Ticket</th>\n",
       "      <th>Fare</th>\n",
       "      <th>Cabin</th>\n",
       "      <th>Embarked</th>\n",
       "    </tr>\n",
       "  </thead>\n",
       "  <tbody>\n",
       "    <tr>\n",
       "      <th>1</th>\n",
       "      <td>2</td>\n",
       "      <td>1</td>\n",
       "      <td>1</td>\n",
       "      <td>Cumings, Mrs. John Bradley (Florence Briggs Th...</td>\n",
       "      <td>female</td>\n",
       "      <td>38.000000</td>\n",
       "      <td>1</td>\n",
       "      <td>0</td>\n",
       "      <td>PC 17599</td>\n",
       "      <td>71.2833</td>\n",
       "      <td>C85</td>\n",
       "      <td>C</td>\n",
       "    </tr>\n",
       "    <tr>\n",
       "      <th>27</th>\n",
       "      <td>28</td>\n",
       "      <td>0</td>\n",
       "      <td>1</td>\n",
       "      <td>Fortune, Mr. Charles Alexander</td>\n",
       "      <td>male</td>\n",
       "      <td>19.000000</td>\n",
       "      <td>3</td>\n",
       "      <td>2</td>\n",
       "      <td>19950</td>\n",
       "      <td>263.0000</td>\n",
       "      <td>C23 C25 C27</td>\n",
       "      <td>S</td>\n",
       "    </tr>\n",
       "    <tr>\n",
       "      <th>31</th>\n",
       "      <td>32</td>\n",
       "      <td>1</td>\n",
       "      <td>1</td>\n",
       "      <td>Spencer, Mrs. William Augustus (Marie Eugenie)</td>\n",
       "      <td>female</td>\n",
       "      <td>29.699118</td>\n",
       "      <td>1</td>\n",
       "      <td>0</td>\n",
       "      <td>PC 17569</td>\n",
       "      <td>146.5208</td>\n",
       "      <td>B78</td>\n",
       "      <td>C</td>\n",
       "    </tr>\n",
       "    <tr>\n",
       "      <th>34</th>\n",
       "      <td>35</td>\n",
       "      <td>0</td>\n",
       "      <td>1</td>\n",
       "      <td>Meyer, Mr. Edgar Joseph</td>\n",
       "      <td>male</td>\n",
       "      <td>28.000000</td>\n",
       "      <td>1</td>\n",
       "      <td>0</td>\n",
       "      <td>PC 17604</td>\n",
       "      <td>82.1708</td>\n",
       "      <td>NaN</td>\n",
       "      <td>C</td>\n",
       "    </tr>\n",
       "    <tr>\n",
       "      <th>52</th>\n",
       "      <td>53</td>\n",
       "      <td>1</td>\n",
       "      <td>1</td>\n",
       "      <td>Harper, Mrs. Henry Sleeper (Myna Haxtun)</td>\n",
       "      <td>female</td>\n",
       "      <td>49.000000</td>\n",
       "      <td>1</td>\n",
       "      <td>0</td>\n",
       "      <td>PC 17572</td>\n",
       "      <td>76.7292</td>\n",
       "      <td>D33</td>\n",
       "      <td>C</td>\n",
       "    </tr>\n",
       "    <tr>\n",
       "      <th>...</th>\n",
       "      <td>...</td>\n",
       "      <td>...</td>\n",
       "      <td>...</td>\n",
       "      <td>...</td>\n",
       "      <td>...</td>\n",
       "      <td>...</td>\n",
       "      <td>...</td>\n",
       "      <td>...</td>\n",
       "      <td>...</td>\n",
       "      <td>...</td>\n",
       "      <td>...</td>\n",
       "      <td>...</td>\n",
       "    </tr>\n",
       "    <tr>\n",
       "      <th>846</th>\n",
       "      <td>847</td>\n",
       "      <td>0</td>\n",
       "      <td>3</td>\n",
       "      <td>Sage, Mr. Douglas Bullen</td>\n",
       "      <td>male</td>\n",
       "      <td>29.699118</td>\n",
       "      <td>8</td>\n",
       "      <td>2</td>\n",
       "      <td>CA. 2343</td>\n",
       "      <td>69.5500</td>\n",
       "      <td>NaN</td>\n",
       "      <td>S</td>\n",
       "    </tr>\n",
       "    <tr>\n",
       "      <th>849</th>\n",
       "      <td>850</td>\n",
       "      <td>1</td>\n",
       "      <td>1</td>\n",
       "      <td>Goldenberg, Mrs. Samuel L (Edwiga Grabowska)</td>\n",
       "      <td>female</td>\n",
       "      <td>29.699118</td>\n",
       "      <td>1</td>\n",
       "      <td>0</td>\n",
       "      <td>17453</td>\n",
       "      <td>89.1042</td>\n",
       "      <td>C92</td>\n",
       "      <td>C</td>\n",
       "    </tr>\n",
       "    <tr>\n",
       "      <th>856</th>\n",
       "      <td>857</td>\n",
       "      <td>1</td>\n",
       "      <td>1</td>\n",
       "      <td>Wick, Mrs. George Dennick (Mary Hitchcock)</td>\n",
       "      <td>female</td>\n",
       "      <td>45.000000</td>\n",
       "      <td>1</td>\n",
       "      <td>1</td>\n",
       "      <td>36928</td>\n",
       "      <td>164.8667</td>\n",
       "      <td>NaN</td>\n",
       "      <td>S</td>\n",
       "    </tr>\n",
       "    <tr>\n",
       "      <th>863</th>\n",
       "      <td>864</td>\n",
       "      <td>0</td>\n",
       "      <td>3</td>\n",
       "      <td>Sage, Miss. Dorothy Edith \"Dolly\"</td>\n",
       "      <td>female</td>\n",
       "      <td>29.699118</td>\n",
       "      <td>8</td>\n",
       "      <td>2</td>\n",
       "      <td>CA. 2343</td>\n",
       "      <td>69.5500</td>\n",
       "      <td>NaN</td>\n",
       "      <td>S</td>\n",
       "    </tr>\n",
       "    <tr>\n",
       "      <th>879</th>\n",
       "      <td>880</td>\n",
       "      <td>1</td>\n",
       "      <td>1</td>\n",
       "      <td>Potter, Mrs. Thomas Jr (Lily Alexenia Wilson)</td>\n",
       "      <td>female</td>\n",
       "      <td>56.000000</td>\n",
       "      <td>0</td>\n",
       "      <td>1</td>\n",
       "      <td>11767</td>\n",
       "      <td>83.1583</td>\n",
       "      <td>C50</td>\n",
       "      <td>C</td>\n",
       "    </tr>\n",
       "  </tbody>\n",
       "</table>\n",
       "<p>116 rows × 12 columns</p>\n",
       "</div>"
      ],
      "text/plain": [
       "     PassengerId  Survived  Pclass  \\\n",
       "1              2         1       1   \n",
       "27            28         0       1   \n",
       "31            32         1       1   \n",
       "34            35         0       1   \n",
       "52            53         1       1   \n",
       "..           ...       ...     ...   \n",
       "846          847         0       3   \n",
       "849          850         1       1   \n",
       "856          857         1       1   \n",
       "863          864         0       3   \n",
       "879          880         1       1   \n",
       "\n",
       "                                                  Name     Sex        Age  \\\n",
       "1    Cumings, Mrs. John Bradley (Florence Briggs Th...  female  38.000000   \n",
       "27                      Fortune, Mr. Charles Alexander    male  19.000000   \n",
       "31      Spencer, Mrs. William Augustus (Marie Eugenie)  female  29.699118   \n",
       "34                             Meyer, Mr. Edgar Joseph    male  28.000000   \n",
       "52            Harper, Mrs. Henry Sleeper (Myna Haxtun)  female  49.000000   \n",
       "..                                                 ...     ...        ...   \n",
       "846                           Sage, Mr. Douglas Bullen    male  29.699118   \n",
       "849       Goldenberg, Mrs. Samuel L (Edwiga Grabowska)  female  29.699118   \n",
       "856         Wick, Mrs. George Dennick (Mary Hitchcock)  female  45.000000   \n",
       "863                  Sage, Miss. Dorothy Edith \"Dolly\"  female  29.699118   \n",
       "879      Potter, Mrs. Thomas Jr (Lily Alexenia Wilson)  female  56.000000   \n",
       "\n",
       "     SibSp  Parch    Ticket      Fare        Cabin Embarked  \n",
       "1        1      0  PC 17599   71.2833          C85        C  \n",
       "27       3      2     19950  263.0000  C23 C25 C27        S  \n",
       "31       1      0  PC 17569  146.5208          B78        C  \n",
       "34       1      0  PC 17604   82.1708          NaN        C  \n",
       "52       1      0  PC 17572   76.7292          D33        C  \n",
       "..     ...    ...       ...       ...          ...      ...  \n",
       "846      8      2  CA. 2343   69.5500          NaN        S  \n",
       "849      1      0     17453   89.1042          C92        C  \n",
       "856      1      1     36928  164.8667          NaN        S  \n",
       "863      8      2  CA. 2343   69.5500          NaN        S  \n",
       "879      0      1     11767   83.1583          C50        C  \n",
       "\n",
       "[116 rows x 12 columns]"
      ]
     },
     "execution_count": 58,
     "metadata": {},
     "output_type": "execute_result"
    }
   ],
   "source": [
    "Q1 = df['Fare'].quantile(0.25)\n",
    "Q3 = df['Fare'].quantile(0.75)\n",
    "IQR = Q3 - Q1\n",
    "is_fare_outlier = (df['Fare'] < (Q1 - 1.5 * IQR)) | (df['Fare'] > (Q3 + 1.5 * IQR))\n",
    "df.loc[is_fare_outlier]"
   ]
  },
  {
   "cell_type": "markdown",
   "id": "1062d7b0-1f02-4bf5-acce-04ce1501255f",
   "metadata": {},
   "source": [
    "The Interquartile Range (IQR) method identifies outliers, where fares significantly deviate from typical values."
   ]
  },
  {
   "cell_type": "markdown",
   "id": "2df1f4d1-a524-4da0-922a-d7c956ee5c05",
   "metadata": {},
   "source": [
    "##### Calculate Rolling Average of Fare\n",
    "\n",
    "Sort the dataset by its index and then calculate the rolling average of the Fare over a window of 10 rows.\n",
    "\n",
    "The minimum number of periods required for calculation is 1."
   ]
  },
  {
   "cell_type": "code",
   "execution_count": 59,
   "id": "46cc6266-ad8e-4a8c-a17c-d1603b9d3127",
   "metadata": {},
   "outputs": [
    {
     "data": {
      "text/plain": [
       "0       7.250000\n",
       "1      39.266650\n",
       "2      28.819433\n",
       "3      34.889575\n",
       "4      29.521660\n",
       "         ...    \n",
       "886    20.303740\n",
       "887    22.514160\n",
       "888    24.069580\n",
       "889    18.753750\n",
       "890    16.928750\n",
       "Name: Fare, Length: 891, dtype: float64"
      ]
     },
     "execution_count": 59,
     "metadata": {},
     "output_type": "execute_result"
    }
   ],
   "source": [
    "sorted_df = df.sort_index()\n",
    "rolling_average_fare = sorted_df['Fare'].rolling(window=10, min_periods=1).mean()\n",
    "rolling_average_fare"
   ]
  },
  {
   "cell_type": "markdown",
   "id": "790794e7-3953-4559-b77d-16d93b026a32",
   "metadata": {},
   "source": [
    "This smooths fare data by averaging over a window of 10 rows."
   ]
  },
  {
   "cell_type": "markdown",
   "id": "4b71d719-21ca-46aa-94d0-12b3fcf3f672",
   "metadata": {},
   "source": [
    "##### Determine the most frequently occurring ticket numbers. "
   ]
  },
  {
   "cell_type": "code",
   "execution_count": 76,
   "id": "c8aaf760-52fc-4109-9b8f-2f8a457d2ddd",
   "metadata": {},
   "outputs": [
    {
     "data": {
      "text/plain": [
       "Ticket\n",
       "347082      7\n",
       "CA. 2343    7\n",
       "1601        7\n",
       "3101295     6\n",
       "CA 2144     6\n",
       "           ..\n",
       "9234        1\n",
       "19988       1\n",
       "2693        1\n",
       "PC 17612    1\n",
       "370376      1\n",
       "Name: count, Length: 681, dtype: int64"
      ]
     },
     "execution_count": 76,
     "metadata": {},
     "output_type": "execute_result"
    }
   ],
   "source": [
    "df['Ticket'].value_counts()"
   ]
  },
  {
   "cell_type": "markdown",
   "id": "be647ba5-aa58-478c-b9f5-72fd49f51d22",
   "metadata": {},
   "source": [
    "##### Create a new column `Has_Cabin` that is True if a passenger has a cabin assigned and False otherwise."
   ]
  },
  {
   "cell_type": "code",
   "execution_count": 74,
   "id": "f5dfb46f-4e2e-4345-872b-819c10f6490e",
   "metadata": {},
   "outputs": [
    {
     "data": {
      "text/plain": [
       "204"
      ]
     },
     "execution_count": 74,
     "metadata": {},
     "output_type": "execute_result"
    }
   ],
   "source": [
    "Has_Cabin = df['Cabin'].notna()\n",
    "Has_Cabin.sum()"
   ]
  },
  {
   "cell_type": "markdown",
   "id": "8016ecdc-26bb-45fd-ac5e-3d765b271b79",
   "metadata": {},
   "source": [
    "#####  Categorizing Passengers Based on Cabin Deck"
   ]
  },
  {
   "cell_type": "code",
   "execution_count": 127,
   "id": "e2aef13e-437a-4be5-b597-19c088ac5007",
   "metadata": {},
   "outputs": [
    {
     "data": {
      "text/plain": [
       "1      C\n",
       "3      C\n",
       "6      E\n",
       "10     G\n",
       "11     C\n",
       "      ..\n",
       "871    D\n",
       "872    B\n",
       "879    C\n",
       "887    B\n",
       "889    C\n",
       "Name: Deck, Length: 204, dtype: object"
      ]
     },
     "execution_count": 127,
     "metadata": {},
     "output_type": "execute_result"
    }
   ],
   "source": [
    "df['Deck'] = df['Cabin'].str[0]\n",
    "df['Deck'].dropna()"
   ]
  },
  {
   "cell_type": "markdown",
   "id": "e0967a06-43f2-420c-afa2-a396042b1ce9",
   "metadata": {},
   "source": [
    "##### Calculate the survival rate for passengers who embarked at each port."
   ]
  },
  {
   "cell_type": "code",
   "execution_count": 140,
   "id": "7f9ef74f-6c3b-4e4f-bed5-23eebb3ecdf7",
   "metadata": {},
   "outputs": [
    {
     "data": {
      "text/html": [
       "<div>\n",
       "<style scoped>\n",
       "    .dataframe tbody tr th:only-of-type {\n",
       "        vertical-align: middle;\n",
       "    }\n",
       "\n",
       "    .dataframe tbody tr th {\n",
       "        vertical-align: top;\n",
       "    }\n",
       "\n",
       "    .dataframe thead th {\n",
       "        text-align: right;\n",
       "    }\n",
       "</style>\n",
       "<table border=\"1\" class=\"dataframe\">\n",
       "  <thead>\n",
       "    <tr style=\"text-align: right;\">\n",
       "      <th></th>\n",
       "      <th>Embarked</th>\n",
       "      <th>Survived</th>\n",
       "    </tr>\n",
       "  </thead>\n",
       "  <tbody>\n",
       "    <tr>\n",
       "      <th>0</th>\n",
       "      <td>C</td>\n",
       "      <td>56.0</td>\n",
       "    </tr>\n",
       "    <tr>\n",
       "      <th>1</th>\n",
       "      <td>Q</td>\n",
       "      <td>39.0</td>\n",
       "    </tr>\n",
       "    <tr>\n",
       "      <th>2</th>\n",
       "      <td>S</td>\n",
       "      <td>34.0</td>\n",
       "    </tr>\n",
       "  </tbody>\n",
       "</table>\n",
       "</div>"
      ],
      "text/plain": [
       "  Embarked  Survived\n",
       "0        C      56.0\n",
       "1        Q      39.0\n",
       "2        S      34.0"
      ]
     },
     "execution_count": 140,
     "metadata": {},
     "output_type": "execute_result"
    }
   ],
   "source": [
    "import numpy as np\n",
    "survival_rate_percentage = df.groupby('Embarked')['Survived'].mean() * 100\n",
    "survival_rate_percentage = np.ceil(survival_rate_percentage).reset_index()\n",
    "survival_rate_percentage"
   ]
  },
  {
   "cell_type": "markdown",
   "id": "151fcfb1-774f-4228-a08e-54951d9e9037",
   "metadata": {},
   "source": [
    "##### Identify how many passengers had duplicate ticket numbers (i.e., more than one person with the same `Ticket`)."
   ]
  },
  {
   "cell_type": "code",
   "execution_count": 141,
   "id": "88667c9c-0b34-4551-814c-9756a319728c",
   "metadata": {},
   "outputs": [
    {
     "data": {
      "text/plain": [
       "134"
      ]
     },
     "execution_count": 141,
     "metadata": {},
     "output_type": "execute_result"
    }
   ],
   "source": [
    "duplicate_tickets = df[df.duplicated(subset='Ticket')]\n",
    "duplicate_ticket_count = duplicate_tickets['Ticket'].nunique()\n",
    "duplicate_ticket_count"
   ]
  },
  {
   "cell_type": "markdown",
   "id": "4932fabc-b0d3-45f3-a19d-ebac8fab0d99",
   "metadata": {},
   "source": [
    "##### Determine the highest fare paid for each embarkation port."
   ]
  },
  {
   "cell_type": "code",
   "execution_count": 110,
   "id": "759efcc2-140f-4b67-9a54-6ae4cb7cd216",
   "metadata": {},
   "outputs": [
    {
     "data": {
      "text/plain": [
       "Embarked\n",
       "C    512.3292\n",
       "Q     90.0000\n",
       "S    263.0000\n",
       "Name: Fare, dtype: float64"
      ]
     },
     "execution_count": 110,
     "metadata": {},
     "output_type": "execute_result"
    }
   ],
   "source": [
    "df.groupby('Embarked')['Fare'].max()"
   ]
  },
  {
   "cell_type": "markdown",
   "id": "851641e6-33cb-4a5c-80e2-8174f7975de7",
   "metadata": {},
   "source": [
    "#### What role does age play in the odds of survival? \n",
    "Let’s take a closer look at how age influenced survival during the Titanic disaster. This distribution plot will reveal whether certain age groups were more likely to make it through the tragedy, uncovering patterns that history may have hidden beneath the waves."
   ]
  },
  {
   "cell_type": "code",
   "execution_count": 109,
   "id": "1c78417e-9932-4726-991e-92f85a7d5808",
   "metadata": {},
   "outputs": [
    {
     "data": {
      "image/png": "[encoded data removed]",
      "text/plain": [
       "<Figure size 1000x600 with 1 Axes>"
      ]
     },
     "metadata": {},
     "output_type": "display_data"
    }
   ],
   "source": [
    "# Create a KDE plot for the age distribution of survivors vs non-survivors\n",
    "plt.figure(figsize=(10, 6))\n",
    "sns.kdeplot(df[df['Survived'] == 1]['Age'], label='Survived', color='green')\n",
    "sns.kdeplot(df[df['Survived'] == 0]['Age'], label='Did Not Survive', color='red')\n",
    "\n",
    "# Add labels and title\n",
    "plt.title('Age Distribution for Survivors vs Non-Survivors', fontsize=16)\n",
    "plt.xlabel('Age', fontsize=12)\n",
    "plt.ylabel('Density', fontsize=12)\n",
    "plt.legend(title='Survival Status')\n",
    "plt.show()"
   ]
  },
  {
   "cell_type": "code",
   "execution_count": null,
   "id": "ed34bd69-8ab8-449e-ab6a-b199bf03e52a",
   "metadata": {},
   "outputs": [],
   "source": []
  }
 ],
 "metadata": {
  "kernelspec": {
   "display_name": "Python 3 (ipykernel)",
   "language": "python",
   "name": "python3"
  },
  "language_info": {
   "codemirror_mode": {
    "name": "ipython",
    "version": 3
   },
   "file_extension": ".py",
   "mimetype": "text/x-python",
   "name": "python",
   "nbconvert_exporter": "python",
   "pygments_lexer": "ipython3",
   "version": "3.12.1"
  }
 },
 "nbformat": 4,
 "nbformat_minor": 5
}
